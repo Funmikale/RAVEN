{
 "cells": [
  {
   "cell_type": "code",
   "execution_count": 82,
   "metadata": {},
   "outputs": [],
   "source": [
    " import numpy as np\n",
    "import pandas as pd\n",
    "\n",
    "#Data Visualisation\n",
    "import seaborn as sns\n",
    "import matplotlib.pyplot as plt\n",
    "\n",
    "#Machine Learning \n",
    "from sklearn.preprocessing import LabelEncoder, StandardScaler,OrdinalEncoder\n",
    "from sklearn.impute import SimpleImputer\n",
    "from sklearn.model_selection import train_test_split, GridSearchCV\n",
    "from sklearn.metrics import confusion_matrix, classification_report, accuracy_score, roc_auc_score,plot_roc_curve\n",
    "from sklearn.linear_model import LogisticRegression\n",
    "from sklearn.tree import DecisionTreeClassifier\n",
    "from sklearn.ensemble import RandomForestClassifier\n",
    "from xgboost import XGBClassifier\n",
    "from lightgbm import LGBMClassifier\n",
    "from imblearn.over_sampling import RandomOverSampler\n",
    "import pickle\n",
    "sns.set()\n",
    "# Maths\n",
    "import math\n",
    "\n",
    "# Set the options\n",
    "pd.set_option('display.max_rows',24)\n",
    "pd.set_option('display.max_columns',500)\n",
    "%matplotlib inline \n",
    "\n",
    "\n"
   ]
  },
  {
   "cell_type": "code",
   "execution_count": 138,
   "metadata": {},
   "outputs": [],
   "source": [
    "#import dataset containing features earlier selected based on importance \n",
    "df2=pd.read_csv('Birdstrikesml.csv')"
   ]
  },
  {
   "cell_type": "code",
   "execution_count": 139,
   "metadata": {
    "scrolled": true
   },
   "outputs": [
    {
     "data": {
      "text/html": [
       "<div>\n",
       "<style scoped>\n",
       "    .dataframe tbody tr th:only-of-type {\n",
       "        vertical-align: middle;\n",
       "    }\n",
       "\n",
       "    .dataframe tbody tr th {\n",
       "        vertical-align: top;\n",
       "    }\n",
       "\n",
       "    .dataframe thead th {\n",
       "        text-align: right;\n",
       "    }\n",
       "</style>\n",
       "<table border=\"1\" class=\"dataframe\">\n",
       "  <thead>\n",
       "    <tr style=\"text-align: right;\">\n",
       "      <th></th>\n",
       "      <th>Unnamed: 0</th>\n",
       "      <th>RISK</th>\n",
       "      <th>FAAREGION</th>\n",
       "      <th>AIRPORT</th>\n",
       "      <th>AIRCRAFT</th>\n",
       "      <th>DAMAGE_LEVEL</th>\n",
       "      <th>SIZE</th>\n",
       "      <th>INCIDENT_YEAR</th>\n",
       "      <th>INCIDENT_DATE</th>\n",
       "      <th>WARNED</th>\n",
       "      <th>PHASE_OF_FLIGHT</th>\n",
       "      <th>HEIGHT</th>\n",
       "      <th>TYPE_ENG</th>\n",
       "      <th>INDICATED_DAMAGE</th>\n",
       "      <th>EFFECT</th>\n",
       "      <th>NUM_ENGS</th>\n",
       "      <th>ENG_1_POS</th>\n",
       "    </tr>\n",
       "  </thead>\n",
       "  <tbody>\n",
       "    <tr>\n",
       "      <th>0</th>\n",
       "      <td>1</td>\n",
       "      <td>Undetermined</td>\n",
       "      <td>ASW</td>\n",
       "      <td>LOUIE ARMSTRONG NEW ORLEANS INTL ARPT</td>\n",
       "      <td>B-727</td>\n",
       "      <td>N</td>\n",
       "      <td>Medium</td>\n",
       "      <td>1993</td>\n",
       "      <td>1993-01-08</td>\n",
       "      <td>Unknown</td>\n",
       "      <td>Landing Roll</td>\n",
       "      <td>0.0</td>\n",
       "      <td>D</td>\n",
       "      <td>False</td>\n",
       "      <td>None</td>\n",
       "      <td>3.0</td>\n",
       "      <td>5.0</td>\n",
       "    </tr>\n",
       "    <tr>\n",
       "      <th>1</th>\n",
       "      <td>2</td>\n",
       "      <td>Undetermined</td>\n",
       "      <td>AGL</td>\n",
       "      <td>CHICAGO O'HARE INTL ARPT</td>\n",
       "      <td>B-757-200</td>\n",
       "      <td>N</td>\n",
       "      <td>Small</td>\n",
       "      <td>1996</td>\n",
       "      <td>1996-08-18</td>\n",
       "      <td>Unknown</td>\n",
       "      <td>Landing Roll</td>\n",
       "      <td>0.0</td>\n",
       "      <td>D</td>\n",
       "      <td>False</td>\n",
       "      <td>None</td>\n",
       "      <td>2.0</td>\n",
       "      <td>1.0</td>\n",
       "    </tr>\n",
       "    <tr>\n",
       "      <th>2</th>\n",
       "      <td>3</td>\n",
       "      <td>High Risk</td>\n",
       "      <td>ANE</td>\n",
       "      <td>MANCHESTER AIRPORT</td>\n",
       "      <td>BE-33</td>\n",
       "      <td>S</td>\n",
       "      <td>Large</td>\n",
       "      <td>1993</td>\n",
       "      <td>1993-09-19</td>\n",
       "      <td>No</td>\n",
       "      <td>Approach</td>\n",
       "      <td>1800.0</td>\n",
       "      <td>A</td>\n",
       "      <td>True</td>\n",
       "      <td>Precautionary Landing</td>\n",
       "      <td>1.0</td>\n",
       "      <td>7.0</td>\n",
       "    </tr>\n",
       "    <tr>\n",
       "      <th>3</th>\n",
       "      <td>4</td>\n",
       "      <td>Low Risk</td>\n",
       "      <td>ASW</td>\n",
       "      <td>EL PASO INTL ARPT</td>\n",
       "      <td>B-727</td>\n",
       "      <td>N</td>\n",
       "      <td>Small</td>\n",
       "      <td>1991</td>\n",
       "      <td>1991-03-23</td>\n",
       "      <td>No</td>\n",
       "      <td>Approach</td>\n",
       "      <td>200.0</td>\n",
       "      <td>D</td>\n",
       "      <td>False</td>\n",
       "      <td>None</td>\n",
       "      <td>3.0</td>\n",
       "      <td>5.0</td>\n",
       "    </tr>\n",
       "    <tr>\n",
       "      <th>4</th>\n",
       "      <td>17</td>\n",
       "      <td>Low Risk</td>\n",
       "      <td>AGL</td>\n",
       "      <td>GOSHEN MUNICIPAL ARPT</td>\n",
       "      <td>PA-31T CHEYENNE</td>\n",
       "      <td>N</td>\n",
       "      <td>Small</td>\n",
       "      <td>1990</td>\n",
       "      <td>1990-08-23</td>\n",
       "      <td>No</td>\n",
       "      <td>Approach</td>\n",
       "      <td>300.0</td>\n",
       "      <td>C</td>\n",
       "      <td>False</td>\n",
       "      <td>None</td>\n",
       "      <td>2.0</td>\n",
       "      <td>4.0</td>\n",
       "    </tr>\n",
       "  </tbody>\n",
       "</table>\n",
       "</div>"
      ],
      "text/plain": [
       "   Unnamed: 0          RISK FAAREGION                                AIRPORT  \\\n",
       "0           1  Undetermined       ASW  LOUIE ARMSTRONG NEW ORLEANS INTL ARPT   \n",
       "1           2  Undetermined       AGL               CHICAGO O'HARE INTL ARPT   \n",
       "2           3     High Risk       ANE                     MANCHESTER AIRPORT   \n",
       "3           4      Low Risk       ASW                      EL PASO INTL ARPT   \n",
       "4          17      Low Risk       AGL                  GOSHEN MUNICIPAL ARPT   \n",
       "\n",
       "          AIRCRAFT DAMAGE_LEVEL    SIZE  INCIDENT_YEAR INCIDENT_DATE   WARNED  \\\n",
       "0            B-727            N  Medium           1993    1993-01-08  Unknown   \n",
       "1        B-757-200            N   Small           1996    1996-08-18  Unknown   \n",
       "2            BE-33            S   Large           1993    1993-09-19       No   \n",
       "3            B-727            N   Small           1991    1991-03-23       No   \n",
       "4  PA-31T CHEYENNE            N   Small           1990    1990-08-23       No   \n",
       "\n",
       "  PHASE_OF_FLIGHT  HEIGHT TYPE_ENG  INDICATED_DAMAGE                 EFFECT  \\\n",
       "0    Landing Roll     0.0        D             False                   None   \n",
       "1    Landing Roll     0.0        D             False                   None   \n",
       "2        Approach  1800.0        A              True  Precautionary Landing   \n",
       "3        Approach   200.0        D             False                   None   \n",
       "4        Approach   300.0        C             False                   None   \n",
       "\n",
       "   NUM_ENGS  ENG_1_POS  \n",
       "0       3.0        5.0  \n",
       "1       2.0        1.0  \n",
       "2       1.0        7.0  \n",
       "3       3.0        5.0  \n",
       "4       2.0        4.0  "
      ]
     },
     "execution_count": 139,
     "metadata": {},
     "output_type": "execute_result"
    }
   ],
   "source": [
    "df2.head()"
   ]
  },
  {
   "cell_type": "code",
   "execution_count": 149,
   "metadata": {},
   "outputs": [
    {
     "data": {
      "text/plain": [
       "dtype('float64')"
      ]
     },
     "execution_count": 149,
     "metadata": {},
     "output_type": "execute_result"
    }
   ],
   "source": [
    "df2['NUM_ENGS'].dtype"
   ]
  },
  {
   "cell_type": "code",
   "execution_count": 85,
   "metadata": {},
   "outputs": [],
   "source": [
    "df2['INCIDENT_DATE']=pd.to_datetime(df2['INCIDENT_DATE'])"
   ]
  },
  {
   "cell_type": "code",
   "execution_count": 86,
   "metadata": {},
   "outputs": [],
   "source": [
    "#FURTHER PREPROCESSING \n",
    "df2['INCIDENT_DAY']=df2['INCIDENT_DATE'].dt.day\n",
    "df2['INCIDENT_MONTH']=df2['INCIDENT_DATE'].dt.month"
   ]
  },
  {
   "cell_type": "code",
   "execution_count": 87,
   "metadata": {},
   "outputs": [],
   "source": [
    "df2.drop('INCIDENT_DATE',axis=1,inplace=True)"
   ]
  },
  {
   "cell_type": "code",
   "execution_count": 88,
   "metadata": {},
   "outputs": [],
   "source": [
    "df2.drop('Unnamed: 0',axis=1,inplace=True)"
   ]
  },
  {
   "cell_type": "markdown",
   "metadata": {},
   "source": [
    "# SCALING AND ENCODING"
   ]
  },
  {
   "cell_type": "code",
   "execution_count": 95,
   "metadata": {},
   "outputs": [],
   "source": [
    "#SPLITING \n",
    "\n",
    "X=df2.drop('INDICATED_DAMAGE',axis=1) #assign the all features to X\n",
    "y=df2['INDICATED_DAMAGE'] #assign the target to y variable"
   ]
  },
  {
   "cell_type": "code",
   "execution_count": 96,
   "metadata": {},
   "outputs": [],
   "source": [
    "# ENCODING\n",
    "from sklearn.preprocessing import OrdinalEncoder\n",
    "ordinal_encoder =OrdinalEncoder()\n",
    "X=ordinal_encoder.fit_transform(X)"
   ]
  },
  {
   "cell_type": "code",
   "execution_count": 97,
   "metadata": {},
   "outputs": [],
   "source": [
    "filehandler= open('Encoda.obj', 'wb')\n",
    "pickle.dump(ordinal_encoder, filehandler)\n",
    "filehandler.close()"
   ]
  },
  {
   "cell_type": "code",
   "execution_count": null,
   "metadata": {},
   "outputs": [],
   "source": []
  },
  {
   "cell_type": "code",
   "execution_count": 98,
   "metadata": {},
   "outputs": [],
   "source": [
    "scaler= StandardScaler()"
   ]
  },
  {
   "cell_type": "code",
   "execution_count": 99,
   "metadata": {},
   "outputs": [],
   "source": [
    "# Train Test Split\n",
    "X_train,X_test,y_train,y_test=train_test_split(X,y, test_size=0.3,random_state=123)"
   ]
  },
  {
   "cell_type": "code",
   "execution_count": 100,
   "metadata": {},
   "outputs": [
    {
     "data": {
      "text/plain": [
       "StandardScaler()"
      ]
     },
     "execution_count": 100,
     "metadata": {},
     "output_type": "execute_result"
    }
   ],
   "source": [
    "# Fit to X rtrain only\n",
    "scaler.fit(X_train)"
   ]
  },
  {
   "cell_type": "code",
   "execution_count": 9,
   "metadata": {},
   "outputs": [],
   "source": []
  },
  {
   "cell_type": "code",
   "execution_count": 62,
   "metadata": {},
   "outputs": [],
   "source": []
  },
  {
   "cell_type": "markdown",
   "metadata": {},
   "source": [
    "# selecting features using importance"
   ]
  },
  {
   "cell_type": "code",
   "execution_count": 24,
   "metadata": {},
   "outputs": [
    {
     "ename": "KeyboardInterrupt",
     "evalue": "",
     "output_type": "error",
     "traceback": [
      "\u001b[1;31m---------------------------------------------------------------------------\u001b[0m",
      "\u001b[1;31mKeyboardInterrupt\u001b[0m                         Traceback (most recent call last)",
      "\u001b[1;32m<ipython-input-24-e3ab9821b066>\u001b[0m in \u001b[0;36m<module>\u001b[1;34m\u001b[0m\n\u001b[0;32m      1\u001b[0m \u001b[1;32mfrom\u001b[0m \u001b[0msklearn\u001b[0m\u001b[1;33m.\u001b[0m\u001b[0mfeature_selection\u001b[0m \u001b[1;32mimport\u001b[0m \u001b[0mmutual_info_classif\u001b[0m\u001b[1;33m\u001b[0m\u001b[1;33m\u001b[0m\u001b[0m\n\u001b[1;32m----> 2\u001b[1;33m \u001b[0mmutual_info_classif\u001b[0m\u001b[1;33m(\u001b[0m\u001b[0mX\u001b[0m\u001b[1;33m,\u001b[0m\u001b[0my\u001b[0m\u001b[1;33m)\u001b[0m\u001b[1;33m\u001b[0m\u001b[1;33m\u001b[0m\u001b[0m\n\u001b[0m\u001b[0;32m      3\u001b[0m \u001b[0mimp\u001b[0m\u001b[1;33m=\u001b[0m\u001b[0mpd\u001b[0m\u001b[1;33m.\u001b[0m\u001b[0mDataFrame\u001b[0m\u001b[1;33m(\u001b[0m\u001b[0mmutual_info_classif\u001b[0m\u001b[1;33m(\u001b[0m\u001b[0mX\u001b[0m\u001b[1;33m,\u001b[0m\u001b[0my\u001b[0m\u001b[1;33m)\u001b[0m\u001b[1;33m,\u001b[0m \u001b[0mindex\u001b[0m\u001b[1;33m=\u001b[0m\u001b[0mX\u001b[0m\u001b[1;33m.\u001b[0m\u001b[0mcolumns\u001b[0m\u001b[1;33m)\u001b[0m\u001b[1;33m\u001b[0m\u001b[1;33m\u001b[0m\u001b[0m\n\u001b[0;32m      4\u001b[0m \u001b[0mimp\u001b[0m\u001b[1;33m\u001b[0m\u001b[1;33m\u001b[0m\u001b[0m\n\u001b[0;32m      5\u001b[0m \u001b[0mimp\u001b[0m\u001b[1;33m.\u001b[0m\u001b[0mcolumns\u001b[0m\u001b[1;33m=\u001b[0m\u001b[1;33m[\u001b[0m\u001b[1;34m'Importance'\u001b[0m\u001b[1;33m]\u001b[0m\u001b[1;33m\u001b[0m\u001b[1;33m\u001b[0m\u001b[0m\n",
      "\u001b[1;32m~\\anaconda3\\lib\\site-packages\\sklearn\\feature_selection\\_mutual_info.py\u001b[0m in \u001b[0;36mmutual_info_classif\u001b[1;34m(X, y, discrete_features, n_neighbors, copy, random_state)\u001b[0m\n\u001b[0;32m    462\u001b[0m     \"\"\"\n\u001b[0;32m    463\u001b[0m     \u001b[0mcheck_classification_targets\u001b[0m\u001b[1;33m(\u001b[0m\u001b[0my\u001b[0m\u001b[1;33m)\u001b[0m\u001b[1;33m\u001b[0m\u001b[1;33m\u001b[0m\u001b[0m\n\u001b[1;32m--> 464\u001b[1;33m     \u001b[1;32mreturn\u001b[0m \u001b[0m_estimate_mi\u001b[0m\u001b[1;33m(\u001b[0m\u001b[0mX\u001b[0m\u001b[1;33m,\u001b[0m \u001b[0my\u001b[0m\u001b[1;33m,\u001b[0m \u001b[0mdiscrete_features\u001b[0m\u001b[1;33m,\u001b[0m \u001b[1;32mTrue\u001b[0m\u001b[1;33m,\u001b[0m \u001b[0mn_neighbors\u001b[0m\u001b[1;33m,\u001b[0m \u001b[0mcopy\u001b[0m\u001b[1;33m,\u001b[0m \u001b[0mrandom_state\u001b[0m\u001b[1;33m)\u001b[0m\u001b[1;33m\u001b[0m\u001b[1;33m\u001b[0m\u001b[0m\n\u001b[0m",
      "\u001b[1;32m~\\anaconda3\\lib\\site-packages\\sklearn\\feature_selection\\_mutual_info.py\u001b[0m in \u001b[0;36m_estimate_mi\u001b[1;34m(X, y, discrete_features, discrete_target, n_neighbors, copy, random_state)\u001b[0m\n\u001b[0;32m    298\u001b[0m         \u001b[0my\u001b[0m \u001b[1;33m+=\u001b[0m \u001b[1;36m1e-10\u001b[0m \u001b[1;33m*\u001b[0m \u001b[0mnp\u001b[0m\u001b[1;33m.\u001b[0m\u001b[0mmaximum\u001b[0m\u001b[1;33m(\u001b[0m\u001b[1;36m1\u001b[0m\u001b[1;33m,\u001b[0m \u001b[0mnp\u001b[0m\u001b[1;33m.\u001b[0m\u001b[0mmean\u001b[0m\u001b[1;33m(\u001b[0m\u001b[0mnp\u001b[0m\u001b[1;33m.\u001b[0m\u001b[0mabs\u001b[0m\u001b[1;33m(\u001b[0m\u001b[0my\u001b[0m\u001b[1;33m)\u001b[0m\u001b[1;33m)\u001b[0m\u001b[1;33m)\u001b[0m \u001b[1;33m*\u001b[0m \u001b[0mrng\u001b[0m\u001b[1;33m.\u001b[0m\u001b[0mrandn\u001b[0m\u001b[1;33m(\u001b[0m\u001b[0mn_samples\u001b[0m\u001b[1;33m)\u001b[0m\u001b[1;33m\u001b[0m\u001b[1;33m\u001b[0m\u001b[0m\n\u001b[0;32m    299\u001b[0m \u001b[1;33m\u001b[0m\u001b[0m\n\u001b[1;32m--> 300\u001b[1;33m     mi = [\n\u001b[0m\u001b[0;32m    301\u001b[0m         \u001b[0m_compute_mi\u001b[0m\u001b[1;33m(\u001b[0m\u001b[0mx\u001b[0m\u001b[1;33m,\u001b[0m \u001b[0my\u001b[0m\u001b[1;33m,\u001b[0m \u001b[0mdiscrete_feature\u001b[0m\u001b[1;33m,\u001b[0m \u001b[0mdiscrete_target\u001b[0m\u001b[1;33m,\u001b[0m \u001b[0mn_neighbors\u001b[0m\u001b[1;33m)\u001b[0m\u001b[1;33m\u001b[0m\u001b[1;33m\u001b[0m\u001b[0m\n\u001b[0;32m    302\u001b[0m         \u001b[1;32mfor\u001b[0m \u001b[0mx\u001b[0m\u001b[1;33m,\u001b[0m \u001b[0mdiscrete_feature\u001b[0m \u001b[1;32min\u001b[0m \u001b[0mzip\u001b[0m\u001b[1;33m(\u001b[0m\u001b[0m_iterate_columns\u001b[0m\u001b[1;33m(\u001b[0m\u001b[0mX\u001b[0m\u001b[1;33m)\u001b[0m\u001b[1;33m,\u001b[0m \u001b[0mdiscrete_mask\u001b[0m\u001b[1;33m)\u001b[0m\u001b[1;33m\u001b[0m\u001b[1;33m\u001b[0m\u001b[0m\n",
      "\u001b[1;32m~\\anaconda3\\lib\\site-packages\\sklearn\\feature_selection\\_mutual_info.py\u001b[0m in \u001b[0;36m<listcomp>\u001b[1;34m(.0)\u001b[0m\n\u001b[0;32m    299\u001b[0m \u001b[1;33m\u001b[0m\u001b[0m\n\u001b[0;32m    300\u001b[0m     mi = [\n\u001b[1;32m--> 301\u001b[1;33m         \u001b[0m_compute_mi\u001b[0m\u001b[1;33m(\u001b[0m\u001b[0mx\u001b[0m\u001b[1;33m,\u001b[0m \u001b[0my\u001b[0m\u001b[1;33m,\u001b[0m \u001b[0mdiscrete_feature\u001b[0m\u001b[1;33m,\u001b[0m \u001b[0mdiscrete_target\u001b[0m\u001b[1;33m,\u001b[0m \u001b[0mn_neighbors\u001b[0m\u001b[1;33m)\u001b[0m\u001b[1;33m\u001b[0m\u001b[1;33m\u001b[0m\u001b[0m\n\u001b[0m\u001b[0;32m    302\u001b[0m         \u001b[1;32mfor\u001b[0m \u001b[0mx\u001b[0m\u001b[1;33m,\u001b[0m \u001b[0mdiscrete_feature\u001b[0m \u001b[1;32min\u001b[0m \u001b[0mzip\u001b[0m\u001b[1;33m(\u001b[0m\u001b[0m_iterate_columns\u001b[0m\u001b[1;33m(\u001b[0m\u001b[0mX\u001b[0m\u001b[1;33m)\u001b[0m\u001b[1;33m,\u001b[0m \u001b[0mdiscrete_mask\u001b[0m\u001b[1;33m)\u001b[0m\u001b[1;33m\u001b[0m\u001b[1;33m\u001b[0m\u001b[0m\n\u001b[0;32m    303\u001b[0m     ]\n",
      "\u001b[1;32m~\\anaconda3\\lib\\site-packages\\sklearn\\feature_selection\\_mutual_info.py\u001b[0m in \u001b[0;36m_compute_mi\u001b[1;34m(x, y, x_discrete, y_discrete, n_neighbors)\u001b[0m\n\u001b[0;32m    162\u001b[0m         \u001b[1;32mreturn\u001b[0m \u001b[0m_compute_mi_cd\u001b[0m\u001b[1;33m(\u001b[0m\u001b[0my\u001b[0m\u001b[1;33m,\u001b[0m \u001b[0mx\u001b[0m\u001b[1;33m,\u001b[0m \u001b[0mn_neighbors\u001b[0m\u001b[1;33m)\u001b[0m\u001b[1;33m\u001b[0m\u001b[1;33m\u001b[0m\u001b[0m\n\u001b[0;32m    163\u001b[0m     \u001b[1;32melif\u001b[0m \u001b[1;32mnot\u001b[0m \u001b[0mx_discrete\u001b[0m \u001b[1;32mand\u001b[0m \u001b[0my_discrete\u001b[0m\u001b[1;33m:\u001b[0m\u001b[1;33m\u001b[0m\u001b[1;33m\u001b[0m\u001b[0m\n\u001b[1;32m--> 164\u001b[1;33m         \u001b[1;32mreturn\u001b[0m \u001b[0m_compute_mi_cd\u001b[0m\u001b[1;33m(\u001b[0m\u001b[0mx\u001b[0m\u001b[1;33m,\u001b[0m \u001b[0my\u001b[0m\u001b[1;33m,\u001b[0m \u001b[0mn_neighbors\u001b[0m\u001b[1;33m)\u001b[0m\u001b[1;33m\u001b[0m\u001b[1;33m\u001b[0m\u001b[0m\n\u001b[0m\u001b[0;32m    165\u001b[0m     \u001b[1;32melse\u001b[0m\u001b[1;33m:\u001b[0m\u001b[1;33m\u001b[0m\u001b[1;33m\u001b[0m\u001b[0m\n\u001b[0;32m    166\u001b[0m         \u001b[1;32mreturn\u001b[0m \u001b[0m_compute_mi_cc\u001b[0m\u001b[1;33m(\u001b[0m\u001b[0mx\u001b[0m\u001b[1;33m,\u001b[0m \u001b[0my\u001b[0m\u001b[1;33m,\u001b[0m \u001b[0mn_neighbors\u001b[0m\u001b[1;33m)\u001b[0m\u001b[1;33m\u001b[0m\u001b[1;33m\u001b[0m\u001b[0m\n",
      "\u001b[1;32m~\\anaconda3\\lib\\site-packages\\sklearn\\feature_selection\\_mutual_info.py\u001b[0m in \u001b[0;36m_compute_mi_cd\u001b[1;34m(c, d, n_neighbors)\u001b[0m\n\u001b[0;32m    138\u001b[0m \u001b[1;33m\u001b[0m\u001b[0m\n\u001b[0;32m    139\u001b[0m     \u001b[0mkd\u001b[0m \u001b[1;33m=\u001b[0m \u001b[0mKDTree\u001b[0m\u001b[1;33m(\u001b[0m\u001b[0mc\u001b[0m\u001b[1;33m)\u001b[0m\u001b[1;33m\u001b[0m\u001b[1;33m\u001b[0m\u001b[0m\n\u001b[1;32m--> 140\u001b[1;33m     \u001b[0mm_all\u001b[0m \u001b[1;33m=\u001b[0m \u001b[0mkd\u001b[0m\u001b[1;33m.\u001b[0m\u001b[0mquery_radius\u001b[0m\u001b[1;33m(\u001b[0m\u001b[0mc\u001b[0m\u001b[1;33m,\u001b[0m \u001b[0mradius\u001b[0m\u001b[1;33m,\u001b[0m \u001b[0mcount_only\u001b[0m\u001b[1;33m=\u001b[0m\u001b[1;32mTrue\u001b[0m\u001b[1;33m,\u001b[0m \u001b[0mreturn_distance\u001b[0m\u001b[1;33m=\u001b[0m\u001b[1;32mFalse\u001b[0m\u001b[1;33m)\u001b[0m\u001b[1;33m\u001b[0m\u001b[1;33m\u001b[0m\u001b[0m\n\u001b[0m\u001b[0;32m    141\u001b[0m     \u001b[0mm_all\u001b[0m \u001b[1;33m=\u001b[0m \u001b[0mnp\u001b[0m\u001b[1;33m.\u001b[0m\u001b[0marray\u001b[0m\u001b[1;33m(\u001b[0m\u001b[0mm_all\u001b[0m\u001b[1;33m)\u001b[0m \u001b[1;33m-\u001b[0m \u001b[1;36m1.0\u001b[0m\u001b[1;33m\u001b[0m\u001b[1;33m\u001b[0m\u001b[0m\n\u001b[0;32m    142\u001b[0m \u001b[1;33m\u001b[0m\u001b[0m\n",
      "\u001b[1;31mKeyboardInterrupt\u001b[0m: "
     ]
    }
   ],
   "source": [
    "from sklearn.feature_selection import mutual_info_classif\n",
    "mutual_info_classif(X,y)\n",
    "imp=pd.DataFrame(mutual_info_classif(X,y), index=X.columns)\n",
    "imp\n",
    "imp.columns=['Importance']\n",
    "imp.sort_values(by='Importance',ascending=False)"
   ]
  },
  {
   "cell_type": "code",
   "execution_count": null,
   "metadata": {},
   "outputs": [],
   "source": [
    "imp[imp['Importance']>0.01].sort_values(by='Importance',ascending=False)"
   ]
  },
  {
   "cell_type": "code",
   "execution_count": 11,
   "metadata": {},
   "outputs": [
    {
     "data": {
      "text/plain": [
       "(136131, 16)"
      ]
     },
     "execution_count": 11,
     "metadata": {},
     "output_type": "execute_result"
    }
   ],
   "source": [
    "X.shape"
   ]
  },
  {
   "cell_type": "code",
   "execution_count": 12,
   "metadata": {},
   "outputs": [
    {
     "data": {
      "text/plain": [
       "array([[  3.,   7., 941., ...,   5.,   7.,   0.],\n",
       "       [  3.,   3., 265., ...,   0.,  17.,   7.],\n",
       "       [  0.,   4., 978., ...,   7.,  18.,   8.],\n",
       "       ...,\n",
       "       [  3.,   4., 889., ...,   2.,  29.,   9.],\n",
       "       [  3.,   2., 905., ...,   0.,  30.,   9.],\n",
       "       [  3.,   7., 570., ...,   2.,  10.,   3.]])"
      ]
     },
     "execution_count": 12,
     "metadata": {},
     "output_type": "execute_result"
    }
   ],
   "source": [
    "X"
   ]
  },
  {
   "cell_type": "code",
   "execution_count": 13,
   "metadata": {},
   "outputs": [],
   "source": [
    "# Train Test Split\n",
    "X_train,X_test,y_train,y_test=train_test_split(X,y, test_size=0.3,random_state=123)"
   ]
  },
  {
   "cell_type": "code",
   "execution_count": 14,
   "metadata": {},
   "outputs": [
    {
     "data": {
      "text/plain": [
       "StandardScaler()"
      ]
     },
     "execution_count": 14,
     "metadata": {},
     "output_type": "execute_result"
    }
   ],
   "source": [
    "# Fit to X rtrain only\n",
    "scaler.fit(X_train)"
   ]
  },
  {
   "cell_type": "code",
   "execution_count": 15,
   "metadata": {},
   "outputs": [],
   "source": [
    "X_train=scaler.transform(X_train)\n",
    "X_test=scaler.transform(X_test)"
   ]
  },
  {
   "cell_type": "markdown",
   "metadata": {},
   "source": [
    "# MACHINE LEARNING"
   ]
  },
  {
   "cell_type": "code",
   "execution_count": 101,
   "metadata": {},
   "outputs": [],
   "source": [
    "def model_to_use(input_ml_algo):\n",
    "    if input_ml_algo=='DT':\n",
    "        model = DecisionTreeClassifier()\n",
    "    if input_ml_algo=='RF':\n",
    "        model= RandomForestClassifier()\n",
    "    if input_ml_algo=='XGBC':\n",
    "        model=XGBClassifier()\n",
    "    if input_ml_algo=='LGBMC':\n",
    "        model=LGBMClassifier()\n",
    "    if input_ml_algo=='LR':\n",
    "        model=LogisticRegression()\n",
    "    return model"
   ]
  },
  {
   "cell_type": "code",
   "execution_count": 102,
   "metadata": {},
   "outputs": [
    {
     "data": {
      "text/plain": [
       "LogisticRegression()"
      ]
     },
     "execution_count": 102,
     "metadata": {},
     "output_type": "execute_result"
    }
   ],
   "source": [
    "# LOGISTIC REGRESSION\n",
    "model=model_to_use('LR')\n",
    "model"
   ]
  },
  {
   "cell_type": "code",
   "execution_count": 103,
   "metadata": {},
   "outputs": [
    {
     "name": "stderr",
     "output_type": "stream",
     "text": [
      "C:\\Users\\FMC OWO\\anaconda3\\lib\\site-packages\\sklearn\\linear_model\\_logistic.py:814: ConvergenceWarning: lbfgs failed to converge (status=1):\n",
      "STOP: TOTAL NO. of ITERATIONS REACHED LIMIT.\n",
      "\n",
      "Increase the number of iterations (max_iter) or scale the data as shown in:\n",
      "    https://scikit-learn.org/stable/modules/preprocessing.html\n",
      "Please also refer to the documentation for alternative solver options:\n",
      "    https://scikit-learn.org/stable/modules/linear_model.html#logistic-regression\n",
      "  n_iter_i = _check_optimize_result(\n"
     ]
    },
    {
     "data": {
      "text/plain": [
       "LogisticRegression()"
      ]
     },
     "execution_count": 103,
     "metadata": {},
     "output_type": "execute_result"
    }
   ],
   "source": [
    "#Training the model\n",
    "model.fit(X_train, y_train)\n",
    "model"
   ]
  },
  {
   "cell_type": "code",
   "execution_count": 104,
   "metadata": {},
   "outputs": [
    {
     "name": "stdout",
     "output_type": "stream",
     "text": [
      "Y predicted :  [False False False ... False False False]\n",
      "Y probability predicted:  [0.9931829103288612, 0.9987761272330413, 0.9968811337011559, 0.9787668992549711, 0.9962395989477695]\n"
     ]
    }
   ],
   "source": [
    " y_pred = model.predict(X_test)\n",
    "\n",
    "# predict probability for test dataset\n",
    "y_pred_prod=model.predict_proba(X_test)\n",
    "y_pred_prod=[x[0] for x in y_pred_prod]\n",
    "print('Y predicted : ',y_pred)\n",
    "print('Y probability predicted: ',y_pred_prod[:5])"
   ]
  },
  {
   "cell_type": "code",
   "execution_count": 105,
   "metadata": {},
   "outputs": [
    {
     "name": "stdout",
     "output_type": "stream",
     "text": [
      "\n",
      " Accuracy Score : \n",
      " 0.9555827619980412\n",
      "\n",
      " AUC Score : \n",
      " 0.7018678133093702\n",
      "\n",
      " Confusion Matrix: \n",
      " [[37960   288]\n",
      " [ 1526  1066]]\n",
      "\n",
      " Classification Report : \n",
      "               precision    recall  f1-score   support\n",
      "\n",
      "       False       0.96      0.99      0.98     38248\n",
      "        True       0.79      0.41      0.54      2592\n",
      "\n",
      "    accuracy                           0.96     40840\n",
      "   macro avg       0.87      0.70      0.76     40840\n",
      "weighted avg       0.95      0.96      0.95     40840\n",
      "\n",
      "\n",
      " ROC Curve : \n",
      "\n"
     ]
    },
    {
     "name": "stderr",
     "output_type": "stream",
     "text": [
      "C:\\Users\\FMC OWO\\anaconda3\\lib\\site-packages\\sklearn\\utils\\deprecation.py:87: FutureWarning: Function plot_roc_curve is deprecated; Function :func:`plot_roc_curve` is deprecated in 1.0 and will be removed in 1.2. Use one of the class methods: :meth:`sklearn.metric.RocCurveDisplay.from_predictions` or :meth:`sklearn.metric.RocCurveDisplay.from_estimator`.\n",
      "  warnings.warn(msg, category=FutureWarning)\n"
     ]
    },
    {
     "data": {
      "image/png": "[encoded data removed]",
      "text/plain": [
       "<Figure size 432x288 with 1 Axes>"
      ]
     },
     "metadata": {},
     "output_type": "display_data"
    }
   ],
   "source": [
    "def compute_evaluation_metric(model,x_test, y_actual, y_predicted, y_predicted_prob):\n",
    "    print('\\n Accuracy Score : \\n',accuracy_score(y_actual,y_predicted))\n",
    "    print('\\n AUC Score : \\n', roc_auc_score(y_actual,y_predicted))\n",
    "    print('\\n Confusion Matrix: \\n', confusion_matrix(y_actual,y_predicted))\n",
    "    print('\\n Classification Report : \\n',classification_report(y_actual,y_predicted))\n",
    "     \n",
    "    print('\\n ROC Curve : \\n')\n",
    "    sns.set_style('white')\n",
    "    plot_roc_curve(model, x_test, y_actual)\n",
    "    plt.show()\n",
    "    \n",
    "compute_evaluation_metric(model,X_test, y_test, y_pred, y_pred_prod)"
   ]
  },
  {
   "cell_type": "code",
   "execution_count": null,
   "metadata": {},
   "outputs": [],
   "source": []
  },
  {
   "cell_type": "code",
   "execution_count": 106,
   "metadata": {},
   "outputs": [
    {
     "data": {
      "text/plain": [
       "DecisionTreeClassifier()"
      ]
     },
     "execution_count": 106,
     "metadata": {},
     "output_type": "execute_result"
    }
   ],
   "source": [
    "# DECISION TREE CLASSIFIER\n",
    "model=model_to_use('DT')\n",
    "model"
   ]
  },
  {
   "cell_type": "code",
   "execution_count": 107,
   "metadata": {},
   "outputs": [
    {
     "data": {
      "text/plain": [
       "DecisionTreeClassifier()"
      ]
     },
     "execution_count": 107,
     "metadata": {},
     "output_type": "execute_result"
    }
   ],
   "source": [
    "model.fit(X_train, y_train)\n",
    "model"
   ]
  },
  {
   "cell_type": "code",
   "execution_count": 108,
   "metadata": {},
   "outputs": [
    {
     "name": "stdout",
     "output_type": "stream",
     "text": [
      "Y predicted :  [False False False ... False False False]\n",
      "Y probability predicted:  [1.0, 1.0, 1.0, 1.0, 1.0]\n"
     ]
    }
   ],
   "source": [
    " y_pred = model.predict(X_test)\n",
    "\n",
    "# predict probability for test dataset\n",
    "y_pred_prod=model.predict_proba(X_test)\n",
    "y_pred_prod=[x[0] for x in y_pred_prod]\n",
    "print('Y predicted : ',y_pred)\n",
    "print('Y probability predicted: ',y_pred_prod[:5])"
   ]
  },
  {
   "cell_type": "code",
   "execution_count": 109,
   "metadata": {},
   "outputs": [
    {
     "name": "stdout",
     "output_type": "stream",
     "text": [
      "\n",
      " Accuracy Score : \n",
      " 0.9996571988246817\n",
      "\n",
      " AUC Score : \n",
      " 0.9987380119609256\n",
      "\n",
      " Confusion Matrix: \n",
      " [[38240     8]\n",
      " [    6  2586]]\n",
      "\n",
      " Classification Report : \n",
      "               precision    recall  f1-score   support\n",
      "\n",
      "       False       1.00      1.00      1.00     38248\n",
      "        True       1.00      1.00      1.00      2592\n",
      "\n",
      "    accuracy                           1.00     40840\n",
      "   macro avg       1.00      1.00      1.00     40840\n",
      "weighted avg       1.00      1.00      1.00     40840\n",
      "\n",
      "\n",
      " ROC Curve : \n",
      "\n"
     ]
    },
    {
     "name": "stderr",
     "output_type": "stream",
     "text": [
      "C:\\Users\\FMC OWO\\anaconda3\\lib\\site-packages\\sklearn\\utils\\deprecation.py:87: FutureWarning: Function plot_roc_curve is deprecated; Function :func:`plot_roc_curve` is deprecated in 1.0 and will be removed in 1.2. Use one of the class methods: :meth:`sklearn.metric.RocCurveDisplay.from_predictions` or :meth:`sklearn.metric.RocCurveDisplay.from_estimator`.\n",
      "  warnings.warn(msg, category=FutureWarning)\n"
     ]
    },
    {
     "data": {
      "image/png": "[encoded data removed]",
      "text/plain": [
       "<Figure size 432x288 with 1 Axes>"
      ]
     },
     "metadata": {},
     "output_type": "display_data"
    }
   ],
   "source": [
    "def compute_evaluation_metric(model,x_test, y_actual, y_predicted, y_predicted_prob):\n",
    "    print('\\n Accuracy Score : \\n',accuracy_score(y_actual,y_predicted))\n",
    "    print('\\n AUC Score : \\n', roc_auc_score(y_actual,y_predicted))\n",
    "    print('\\n Confusion Matrix: \\n', confusion_matrix(y_actual,y_predicted))\n",
    "    print('\\n Classification Report : \\n',classification_report(y_actual,y_predicted))\n",
    "     \n",
    "    print('\\n ROC Curve : \\n')\n",
    "    sns.set_style('white')\n",
    "    plot_roc_curve(model, x_test, y_actual)\n",
    "    plt.show()\n",
    "    \n",
    "compute_evaluation_metric(model,X_test, y_test, y_pred, y_pred_prod)"
   ]
  },
  {
   "cell_type": "code",
   "execution_count": null,
   "metadata": {},
   "outputs": [],
   "source": []
  },
  {
   "cell_type": "code",
   "execution_count": 110,
   "metadata": {},
   "outputs": [
    {
     "data": {
      "text/plain": [
       "RandomForestClassifier()"
      ]
     },
     "execution_count": 110,
     "metadata": {},
     "output_type": "execute_result"
    }
   ],
   "source": [
    "# RANDOM FOREST\n",
    "model=model_to_use('RF')\n",
    "model"
   ]
  },
  {
   "cell_type": "code",
   "execution_count": 111,
   "metadata": {},
   "outputs": [
    {
     "data": {
      "text/plain": [
       "RandomForestClassifier()"
      ]
     },
     "execution_count": 111,
     "metadata": {},
     "output_type": "execute_result"
    }
   ],
   "source": [
    "model.fit(X_train, y_train)\n",
    "model"
   ]
  },
  {
   "cell_type": "code",
   "execution_count": 112,
   "metadata": {},
   "outputs": [
    {
     "name": "stdout",
     "output_type": "stream",
     "text": [
      "Y predicted :  [False False False ... False False False]\n",
      "Y probability predicted:  [0.0, 0.0, 0.0, 0.0, 0.0]\n"
     ]
    }
   ],
   "source": [
    "y_pred = model.predict(X_test)\n",
    "# predict probability for test dataset\n",
    "y_pred_prod=model.predict_proba(X_test)\n",
    "y_pred_prod=[x[1] for x in y_pred_prod]\n",
    "print('Y predicted : ',y_pred)\n",
    "print('Y probability predicted: ',y_pred_prod[:5])"
   ]
  },
  {
   "cell_type": "code",
   "execution_count": 113,
   "metadata": {},
   "outputs": [
    {
     "name": "stdout",
     "output_type": "stream",
     "text": [
      "\n",
      " Accuracy Score : \n",
      " 0.9998530852105779\n",
      "\n",
      " AUC Score : \n",
      " 0.9988425925925926\n",
      "\n",
      " Confusion Matrix: \n",
      " [[38248     0]\n",
      " [    6  2586]]\n",
      "\n",
      " Classification Report : \n",
      "               precision    recall  f1-score   support\n",
      "\n",
      "       False       1.00      1.00      1.00     38248\n",
      "        True       1.00      1.00      1.00      2592\n",
      "\n",
      "    accuracy                           1.00     40840\n",
      "   macro avg       1.00      1.00      1.00     40840\n",
      "weighted avg       1.00      1.00      1.00     40840\n",
      "\n",
      "\n",
      " ROC Curve : \n",
      "\n"
     ]
    },
    {
     "name": "stderr",
     "output_type": "stream",
     "text": [
      "C:\\Users\\FMC OWO\\anaconda3\\lib\\site-packages\\sklearn\\utils\\deprecation.py:87: FutureWarning: Function plot_roc_curve is deprecated; Function :func:`plot_roc_curve` is deprecated in 1.0 and will be removed in 1.2. Use one of the class methods: :meth:`sklearn.metric.RocCurveDisplay.from_predictions` or :meth:`sklearn.metric.RocCurveDisplay.from_estimator`.\n",
      "  warnings.warn(msg, category=FutureWarning)\n"
     ]
    },
    {
     "data": {
      "image/png": "[encoded data removed]",
      "text/plain": [
       "<Figure size 432x288 with 1 Axes>"
      ]
     },
     "metadata": {},
     "output_type": "display_data"
    }
   ],
   "source": [
    "def compute_evaluation_metric(model,x_test, y_actual, y_predicted, y_predicted_prob):\n",
    "    print('\\n Accuracy Score : \\n',accuracy_score(y_actual,y_predicted))\n",
    "    print('\\n AUC Score : \\n', roc_auc_score(y_actual,y_predicted))\n",
    "    print('\\n Confusion Matrix: \\n', confusion_matrix(y_actual,y_predicted))\n",
    "    print('\\n Classification Report : \\n',classification_report(y_actual,y_predicted))\n",
    "     \n",
    "    print('\\n ROC Curve : \\n')\n",
    "    sns.set_style('white')\n",
    "    plot_roc_curve(model, x_test, y_actual)\n",
    "    plt.show()\n",
    "    \n",
    "compute_evaluation_metric(model,X_test, y_test, y_pred, y_pred_prod)"
   ]
  },
  {
   "cell_type": "code",
   "execution_count": 114,
   "metadata": {},
   "outputs": [
    {
     "data": {
      "text/plain": [
       "XGBClassifier(base_score=None, booster=None, colsample_bylevel=None,\n",
       "              colsample_bynode=None, colsample_bytree=None,\n",
       "              enable_categorical=False, gamma=None, gpu_id=None,\n",
       "              importance_type=None, interaction_constraints=None,\n",
       "              learning_rate=None, max_delta_step=None, max_depth=None,\n",
       "              min_child_weight=None, missing=nan, monotone_constraints=None,\n",
       "              n_estimators=100, n_jobs=None, num_parallel_tree=None,\n",
       "              predictor=None, random_state=None, reg_alpha=None,\n",
       "              reg_lambda=None, scale_pos_weight=None, subsample=None,\n",
       "              tree_method=None, validate_parameters=None, verbosity=None)"
      ]
     },
     "execution_count": 114,
     "metadata": {},
     "output_type": "execute_result"
    }
   ],
   "source": [
    "#XGBC CLASSIFIER\n",
    "model=model_to_use('XGBC')\n",
    "model"
   ]
  },
  {
   "cell_type": "code",
   "execution_count": 115,
   "metadata": {},
   "outputs": [
    {
     "name": "stderr",
     "output_type": "stream",
     "text": [
      "C:\\Users\\FMC OWO\\anaconda3\\lib\\site-packages\\xgboost\\sklearn.py:1224: UserWarning: The use of label encoder in XGBClassifier is deprecated and will be removed in a future release. To remove this warning, do the following: 1) Pass option use_label_encoder=False when constructing XGBClassifier object; and 2) Encode your labels (y) as integers starting with 0, i.e. 0, 1, 2, ..., [num_class - 1].\n",
      "  warnings.warn(label_encoder_deprecation_msg, UserWarning)\n"
     ]
    },
    {
     "name": "stdout",
     "output_type": "stream",
     "text": [
      "[16:08:22] WARNING: C:/Users/Administrator/workspace/xgboost-win64_release_1.5.1/src/learner.cc:1115: Starting in XGBoost 1.3.0, the default evaluation metric used with the objective 'binary:logistic' was changed from 'error' to 'logloss'. Explicitly set eval_metric if you'd like to restore the old behavior.\n"
     ]
    },
    {
     "data": {
      "text/plain": [
       "XGBClassifier(base_score=0.5, booster='gbtree', colsample_bylevel=1,\n",
       "              colsample_bynode=1, colsample_bytree=1, enable_categorical=False,\n",
       "              gamma=0, gpu_id=-1, importance_type=None,\n",
       "              interaction_constraints='', learning_rate=0.300000012,\n",
       "              max_delta_step=0, max_depth=6, min_child_weight=1, missing=nan,\n",
       "              monotone_constraints='()', n_estimators=100, n_jobs=2,\n",
       "              num_parallel_tree=1, predictor='auto', random_state=0,\n",
       "              reg_alpha=0, reg_lambda=1, scale_pos_weight=1, subsample=1,\n",
       "              tree_method='exact', validate_parameters=1, verbosity=None)"
      ]
     },
     "execution_count": 115,
     "metadata": {},
     "output_type": "execute_result"
    }
   ],
   "source": [
    "model.fit(X_train, y_train)\n",
    "model"
   ]
  },
  {
   "cell_type": "code",
   "execution_count": 116,
   "metadata": {},
   "outputs": [
    {
     "name": "stdout",
     "output_type": "stream",
     "text": [
      "Y predicted :  [False False False ... False False False]\n",
      "Y probability predicted:  [0.9999946, 0.9999994, 0.9999994, 0.9999927, 0.9999914]\n"
     ]
    }
   ],
   "source": [
    " y_pred = model.predict(X_test)\n",
    "\n",
    "# predict probability for test dataset\n",
    "y_pred_prod=model.predict_proba(X_test)\n",
    "y_pred_prod=[x[0] for x in y_pred_prod]\n",
    "print('Y predicted : ',y_pred)\n",
    "print('Y probability predicted: ',y_pred_prod[:5])"
   ]
  },
  {
   "cell_type": "code",
   "execution_count": 117,
   "metadata": {},
   "outputs": [
    {
     "name": "stdout",
     "output_type": "stream",
     "text": [
      "\n",
      " Accuracy Score : \n",
      " 0.9998530852105779\n",
      "\n",
      " AUC Score : \n",
      " 0.9988425925925926\n",
      "\n",
      " Confusion Matrix: \n",
      " [[38248     0]\n",
      " [    6  2586]]\n",
      "\n",
      " Classification Report : \n",
      "               precision    recall  f1-score   support\n",
      "\n",
      "       False       1.00      1.00      1.00     38248\n",
      "        True       1.00      1.00      1.00      2592\n",
      "\n",
      "    accuracy                           1.00     40840\n",
      "   macro avg       1.00      1.00      1.00     40840\n",
      "weighted avg       1.00      1.00      1.00     40840\n",
      "\n",
      "\n",
      " ROC Curve : \n",
      "\n"
     ]
    },
    {
     "name": "stderr",
     "output_type": "stream",
     "text": [
      "C:\\Users\\FMC OWO\\anaconda3\\lib\\site-packages\\sklearn\\utils\\deprecation.py:87: FutureWarning: Function plot_roc_curve is deprecated; Function :func:`plot_roc_curve` is deprecated in 1.0 and will be removed in 1.2. Use one of the class methods: :meth:`sklearn.metric.RocCurveDisplay.from_predictions` or :meth:`sklearn.metric.RocCurveDisplay.from_estimator`.\n",
      "  warnings.warn(msg, category=FutureWarning)\n"
     ]
    },
    {
     "data": {
      "image/png": "[encoded data removed]",
      "text/plain": [
       "<Figure size 432x288 with 1 Axes>"
      ]
     },
     "metadata": {},
     "output_type": "display_data"
    }
   ],
   "source": [
    "def compute_evaluation_metric(model,x_test, y_actual, y_predicted, y_predicted_prob):\n",
    "    print('\\n Accuracy Score : \\n',accuracy_score(y_actual,y_predicted))\n",
    "    print('\\n AUC Score : \\n', roc_auc_score(y_actual,y_predicted))\n",
    "    print('\\n Confusion Matrix: \\n', confusion_matrix(y_actual,y_predicted))\n",
    "    print('\\n Classification Report : \\n',classification_report(y_actual,y_predicted))\n",
    "     \n",
    "    print('\\n ROC Curve : \\n')\n",
    "    sns.set_style('white')\n",
    "    plot_roc_curve(model, x_test, y_actual)\n",
    "    plt.show()\n",
    "    \n",
    "compute_evaluation_metric(model,X_test, y_test, y_pred, y_pred_prod)"
   ]
  },
  {
   "cell_type": "code",
   "execution_count": null,
   "metadata": {},
   "outputs": [],
   "source": []
  },
  {
   "cell_type": "code",
   "execution_count": 118,
   "metadata": {},
   "outputs": [
    {
     "data": {
      "text/plain": [
       "LGBMClassifier()"
      ]
     },
     "execution_count": 118,
     "metadata": {},
     "output_type": "execute_result"
    }
   ],
   "source": [
    "#LGBMC\n",
    "model=model_to_use('LGBMC')\n",
    "model"
   ]
  },
  {
   "cell_type": "code",
   "execution_count": 119,
   "metadata": {},
   "outputs": [
    {
     "data": {
      "text/plain": [
       "LGBMClassifier()"
      ]
     },
     "execution_count": 119,
     "metadata": {},
     "output_type": "execute_result"
    }
   ],
   "source": [
    "model.fit(X_train, y_train)\n",
    "model"
   ]
  },
  {
   "cell_type": "code",
   "execution_count": 120,
   "metadata": {},
   "outputs": [
    {
     "name": "stdout",
     "output_type": "stream",
     "text": [
      "Y predicted :  [False False False ... False False False]\n",
      "Y probability predicted:  [0.9999968109643786, 0.9999966836566807, 0.9999971554225024, 0.9999946602613967, 0.9999971554298958]\n"
     ]
    }
   ],
   "source": [
    " y_pred = model.predict(X_test)\n",
    "\n",
    "# predict probability for test dataset\n",
    "y_pred_prod=model.predict_proba(X_test)\n",
    "y_pred_prod=[x[0] for x in y_pred_prod]\n",
    "print('Y predicted : ',y_pred)\n",
    "print('Y probability predicted: ',y_pred_prod[:5])"
   ]
  },
  {
   "cell_type": "code",
   "execution_count": null,
   "metadata": {},
   "outputs": [],
   "source": []
  },
  {
   "cell_type": "code",
   "execution_count": 121,
   "metadata": {},
   "outputs": [
    {
     "name": "stdout",
     "output_type": "stream",
     "text": [
      "\n",
      " Accuracy Score : \n",
      " 0.9998285994123408\n",
      "\n",
      " AUC Score : \n",
      " 0.9988295200136342\n",
      "\n",
      " Confusion Matrix: \n",
      " [[38247     1]\n",
      " [    6  2586]]\n",
      "\n",
      " Classification Report : \n",
      "               precision    recall  f1-score   support\n",
      "\n",
      "       False       1.00      1.00      1.00     38248\n",
      "        True       1.00      1.00      1.00      2592\n",
      "\n",
      "    accuracy                           1.00     40840\n",
      "   macro avg       1.00      1.00      1.00     40840\n",
      "weighted avg       1.00      1.00      1.00     40840\n",
      "\n",
      "\n",
      " ROC Curve : \n",
      "\n"
     ]
    },
    {
     "name": "stderr",
     "output_type": "stream",
     "text": [
      "C:\\Users\\FMC OWO\\anaconda3\\lib\\site-packages\\sklearn\\utils\\deprecation.py:87: FutureWarning: Function plot_roc_curve is deprecated; Function :func:`plot_roc_curve` is deprecated in 1.0 and will be removed in 1.2. Use one of the class methods: :meth:`sklearn.metric.RocCurveDisplay.from_predictions` or :meth:`sklearn.metric.RocCurveDisplay.from_estimator`.\n",
      "  warnings.warn(msg, category=FutureWarning)\n"
     ]
    },
    {
     "data": {
      "image/png": "[encoded data removed]",
      "text/plain": [
       "<Figure size 432x288 with 1 Axes>"
      ]
     },
     "metadata": {},
     "output_type": "display_data"
    }
   ],
   "source": [
    "def compute_evaluation_metric(model,x_test, y_actual, y_predicted, y_predicted_prob):\n",
    "    print('\\n Accuracy Score : \\n',accuracy_score(y_actual,y_predicted))\n",
    "    print('\\n AUC Score : \\n', roc_auc_score(y_actual,y_predicted))\n",
    "    print('\\n Confusion Matrix: \\n', confusion_matrix(y_actual,y_predicted))\n",
    "    print('\\n Classification Report : \\n',classification_report(y_actual,y_predicted))\n",
    "     \n",
    "    print('\\n ROC Curve : \\n')\n",
    "    sns.set_style('white')\n",
    "    plot_roc_curve(model, x_test, y_actual)\n",
    "    plt.show()\n",
    "    \n",
    "compute_evaluation_metric(model,X_test, y_test, y_pred, y_pred_prod)"
   ]
  },
  {
   "cell_type": "markdown",
   "metadata": {},
   "source": [
    "# HANDLING IMBALANCE "
   ]
  },
  {
   "cell_type": "code",
   "execution_count": 122,
   "metadata": {},
   "outputs": [],
   "source": [
    "ros=RandomOverSampler()"
   ]
  },
  {
   "cell_type": "code",
   "execution_count": 123,
   "metadata": {},
   "outputs": [
    {
     "data": {
      "text/plain": [
       "True     127622\n",
       "False    127622\n",
       "Name: INDICATED_DAMAGE, dtype: int64"
      ]
     },
     "execution_count": 123,
     "metadata": {},
     "output_type": "execute_result"
    }
   ],
   "source": [
    "X_ros, y_ros = ros.fit_resample(X,y)\n",
    "y_ros.value_counts()"
   ]
  },
  {
   "cell_type": "code",
   "execution_count": 124,
   "metadata": {},
   "outputs": [],
   "source": [
    "X=X_ros\n",
    "y=y_ros"
   ]
  },
  {
   "cell_type": "code",
   "execution_count": 125,
   "metadata": {},
   "outputs": [],
   "source": [
    "# Train Test Split\n",
    "X_train,X_test,y_train,y_test=train_test_split(X,y, test_size=0.3,random_state=123)\n"
   ]
  },
  {
   "cell_type": "code",
   "execution_count": 126,
   "metadata": {},
   "outputs": [
    {
     "data": {
      "text/plain": [
       "StandardScaler()"
      ]
     },
     "execution_count": 126,
     "metadata": {},
     "output_type": "execute_result"
    }
   ],
   "source": [
    "scaler.fit(X_train)"
   ]
  },
  {
   "cell_type": "code",
   "execution_count": 127,
   "metadata": {},
   "outputs": [],
   "source": [
    "X_train=scaler.transform(X_train)\n",
    "X_test=scaler.transform(X_test)"
   ]
  },
  {
   "cell_type": "code",
   "execution_count": 128,
   "metadata": {},
   "outputs": [],
   "source": [
    "def model_to_use(input_ml_algo):\n",
    "    if input_ml_algo=='DT':\n",
    "        model = DecisionTreeClassifier()\n",
    "    if input_ml_algo=='RF':\n",
    "        model= RandomForestClassifier()\n",
    "    if input_ml_algo=='XGBC':\n",
    "        model=XGBClassifier()\n",
    "    if input_ml_algo=='LGBMC':\n",
    "        model=LGBMClassifier()\n",
    "    if input_ml_algo=='LR':\n",
    "        model=LogisticRegression()\n",
    "    return model"
   ]
  },
  {
   "cell_type": "code",
   "execution_count": 129,
   "metadata": {},
   "outputs": [
    {
     "data": {
      "text/plain": [
       "XGBClassifier(base_score=None, booster=None, colsample_bylevel=None,\n",
       "              colsample_bynode=None, colsample_bytree=None,\n",
       "              enable_categorical=False, gamma=None, gpu_id=None,\n",
       "              importance_type=None, interaction_constraints=None,\n",
       "              learning_rate=None, max_delta_step=None, max_depth=None,\n",
       "              min_child_weight=None, missing=nan, monotone_constraints=None,\n",
       "              n_estimators=100, n_jobs=None, num_parallel_tree=None,\n",
       "              predictor=None, random_state=None, reg_alpha=None,\n",
       "              reg_lambda=None, scale_pos_weight=None, subsample=None,\n",
       "              tree_method=None, validate_parameters=None, verbosity=None)"
      ]
     },
     "execution_count": 129,
     "metadata": {},
     "output_type": "execute_result"
    }
   ],
   "source": [
    "model=model_to_use('XGBC')\n",
    "model"
   ]
  },
  {
   "cell_type": "code",
   "execution_count": 130,
   "metadata": {},
   "outputs": [
    {
     "name": "stderr",
     "output_type": "stream",
     "text": [
      "C:\\Users\\FMC OWO\\anaconda3\\lib\\site-packages\\xgboost\\sklearn.py:1224: UserWarning: The use of label encoder in XGBClassifier is deprecated and will be removed in a future release. To remove this warning, do the following: 1) Pass option use_label_encoder=False when constructing XGBClassifier object; and 2) Encode your labels (y) as integers starting with 0, i.e. 0, 1, 2, ..., [num_class - 1].\n",
      "  warnings.warn(label_encoder_deprecation_msg, UserWarning)\n"
     ]
    },
    {
     "name": "stdout",
     "output_type": "stream",
     "text": [
      "[16:11:14] WARNING: C:/Users/Administrator/workspace/xgboost-win64_release_1.5.1/src/learner.cc:1115: Starting in XGBoost 1.3.0, the default evaluation metric used with the objective 'binary:logistic' was changed from 'error' to 'logloss'. Explicitly set eval_metric if you'd like to restore the old behavior.\n"
     ]
    },
    {
     "data": {
      "text/plain": [
       "XGBClassifier(base_score=0.5, booster='gbtree', colsample_bylevel=1,\n",
       "              colsample_bynode=1, colsample_bytree=1, enable_categorical=False,\n",
       "              gamma=0, gpu_id=-1, importance_type=None,\n",
       "              interaction_constraints='', learning_rate=0.300000012,\n",
       "              max_delta_step=0, max_depth=6, min_child_weight=1, missing=nan,\n",
       "              monotone_constraints='()', n_estimators=100, n_jobs=2,\n",
       "              num_parallel_tree=1, predictor='auto', random_state=0,\n",
       "              reg_alpha=0, reg_lambda=1, scale_pos_weight=1, subsample=1,\n",
       "              tree_method='exact', validate_parameters=1, verbosity=None)"
      ]
     },
     "execution_count": 130,
     "metadata": {},
     "output_type": "execute_result"
    }
   ],
   "source": [
    "model.fit(X_train, y_train)\n",
    "model"
   ]
  },
  {
   "cell_type": "code",
   "execution_count": 132,
   "metadata": {},
   "outputs": [
    {
     "name": "stdout",
     "output_type": "stream",
     "text": [
      "Y predicted :  [False  True  True ...  True False False]\n",
      "Y probability predicted:  [0.9999965, 1.7881393e-06, 2.7179718e-05, 4.7683716e-06, 0.9999769]\n"
     ]
    }
   ],
   "source": [
    " y_pred = model.predict(X_test)\n",
    "\n",
    "# predict probability for test dataset\n",
    "y_pred_prod=model.predict_proba(X_test)\n",
    "y_pred_prod=[x[0] for x in y_pred_prod]\n",
    "print('Y predicted : ',y_pred)\n",
    "print('Y probability predicted: ',y_pred_prod[:5])"
   ]
  },
  {
   "cell_type": "code",
   "execution_count": 133,
   "metadata": {},
   "outputs": [
    {
     "name": "stdout",
     "output_type": "stream",
     "text": [
      "\n",
      " Accuracy Score : \n",
      " 1.0\n",
      "\n",
      " AUC Score : \n",
      " 1.0\n",
      "\n",
      " Confusion Matrix: \n",
      " [[38358     0]\n",
      " [    0 38216]]\n",
      "\n",
      " Classification Report : \n",
      "               precision    recall  f1-score   support\n",
      "\n",
      "       False       1.00      1.00      1.00     38358\n",
      "        True       1.00      1.00      1.00     38216\n",
      "\n",
      "    accuracy                           1.00     76574\n",
      "   macro avg       1.00      1.00      1.00     76574\n",
      "weighted avg       1.00      1.00      1.00     76574\n",
      "\n",
      "\n",
      " ROC Curve : \n",
      "\n"
     ]
    },
    {
     "name": "stderr",
     "output_type": "stream",
     "text": [
      "C:\\Users\\FMC OWO\\anaconda3\\lib\\site-packages\\sklearn\\utils\\deprecation.py:87: FutureWarning: Function plot_roc_curve is deprecated; Function :func:`plot_roc_curve` is deprecated in 1.0 and will be removed in 1.2. Use one of the class methods: :meth:`sklearn.metric.RocCurveDisplay.from_predictions` or :meth:`sklearn.metric.RocCurveDisplay.from_estimator`.\n",
      "  warnings.warn(msg, category=FutureWarning)\n"
     ]
    },
    {
     "data": {
      "image/png": "[encoded data removed]",
      "text/plain": [
       "<Figure size 432x288 with 1 Axes>"
      ]
     },
     "metadata": {},
     "output_type": "display_data"
    }
   ],
   "source": [
    "def compute_evaluation_metric(model,x_test, y_actual, y_predicted, y_predicted_prob):\n",
    "    print('\\n Accuracy Score : \\n',accuracy_score(y_actual,y_predicted))\n",
    "    print('\\n AUC Score : \\n', roc_auc_score(y_actual,y_predicted))\n",
    "    print('\\n Confusion Matrix: \\n', confusion_matrix(y_actual,y_predicted))\n",
    "    print('\\n Classification Report : \\n',classification_report(y_actual,y_predicted))\n",
    "     \n",
    "    print('\\n ROC Curve : \\n')\n",
    "    sns.set_style('white')\n",
    "    plot_roc_curve(model, x_test, y_actual)\n",
    "    plt.show()\n",
    "    \n",
    "compute_evaluation_metric(model,X_test, y_test, y_pred, y_pred_prod)"
   ]
  },
  {
   "cell_type": "code",
   "execution_count": 134,
   "metadata": {},
   "outputs": [],
   "source": [
    "import pickle "
   ]
  },
  {
   "cell_type": "code",
   "execution_count": 135,
   "metadata": {},
   "outputs": [],
   "source": [
    "pickle.dump(model,open('birdy.pkl', 'wb'))\n",
    "pickle.dump(scaler, open('tweeny.pkl', 'wb'))"
   ]
  },
  {
   "cell_type": "code",
   "execution_count": null,
   "metadata": {},
   "outputs": [],
   "source": []
  },
  {
   "cell_type": "markdown",
   "metadata": {},
   "source": [
    "# STREAMLIT"
   ]
  },
  {
   "cell_type": "code",
   "execution_count": 154,
   "metadata": {},
   "outputs": [
    {
     "name": "stdout",
     "output_type": "stream",
     "text": [
      "Overwriting raven.py\n"
     ]
    }
   ],
   "source": [
    "%%writefile raven.py\n",
    "\n",
    "import streamlit as st \n",
    "import pandas as pd\n",
    "import numpy as np\n",
    "import pickle\n",
    "from PIL import Image \n",
    "\n",
    "\n",
    "st.write(\"\"\" \n",
    "# RAVEN: AIRCRAFT INDICATED DAMAGE PREDICTION APP!\n",
    "\"\"\")\n",
    "image=Image.open('birdstrike.jpg')\n",
    "st.image(image, caption='Aircraft/Avian Hazard')\n",
    "model = pickle.load(open('birdy.pkl', 'rb'))\n",
    "scaler=pickle.load(open('tweeny.pkl', 'rb'))\n",
    "enc_loaded=pickle.load(open('Encoda.obj','rb'))\n",
    "df2= pd.read_csv('Birdstrikesml.csv', low_memory=False)\n",
    "\n",
    "Risks=df2['RISK'].unique().tolist()\n",
    "Faaregion=df2['FAAREGION'].unique().tolist()\n",
    "Airport=df2['AIRPORT'].unique().tolist()\n",
    "Aircraft=df2['AIRCRAFT'].unique().tolist()\n",
    "Damage_level=df2['DAMAGE_LEVEL'].unique().tolist() \n",
    "Size=df2['SIZE'].unique().tolist()\n",
    "Warned=df2['WARNED'].unique().tolist()\n",
    "Phase_of_flight=df2['PHASE_OF_FLIGHT'].unique().tolist()\n",
    "Type_eng=df2['TYPE_ENG'].unique().tolist() \n",
    "Effect=df2['EFFECT'].unique().tolist() \n",
    " \n",
    "\n",
    "\n",
    "\n",
    "\n",
    "\n",
    "                        \n",
    "st.sidebar.header('User Input Parameters')\n",
    "def user_input_features():\n",
    "    Risk=st.sidebar.selectbox('Risk Level', Risks)\n",
    "    Faaregions=st.sidebar.selectbox('Region', Faaregion)\n",
    "    Airports=st.sidebar.selectbox('Airport',Airport)\n",
    "    Aircrafts=st.sidebar.selectbox('Aircraft', Aircraft)\n",
    "    Damage_levels=st.sidebar.selectbox('Level of damages',Damage_level )\n",
    "    Sizes=st.sidebar.selectbox('Bird Size',Size)\n",
    "    Incident_year=st.number_input('What is the incident year',max_value=2022,min_value=2012,step=1)\n",
    "    Warning=st.sidebar.selectbox('Warnings', Warned)\n",
    "    Height=st.number_input('How high is the aircraft',min_value=0)\n",
    "    Phase_of_flights=st.sidebar.selectbox('Flight Phase',Phase_of_flight )\n",
    "    Type_engs=st.sidebar.selectbox('Engine Type',Type_eng )\n",
    "    Effects=st.sidebar.selectbox('Effect',Effect )\n",
    "    Number_of_Engine=st.number_input('Number_of_engines',1,3)\n",
    "    Position_of_engines1=st.number_input('Engine_Position',1,7) \n",
    "    Incident_day=st.number_input('What is the incident day',max_value=31,min_value=12,step=1)\n",
    "    Incident_month=st.number_input('What is the incident month',max_value=12,min_value=1,step=1)\n",
    "    \n",
    "  \n",
    "        \n",
    "        \n",
    "        \n",
    "\n",
    "\n",
    "    \n",
    "    data={'RISK':Risk,\n",
    "          'FAAREGION':Faaregions,\n",
    "          'AIRPORT':Airports,\n",
    "          'AIRCRAFT':Aircrafts,\n",
    "          'DAMAGE_LEVEL':Damage_levels,\n",
    "          'SIZE':Sizes, \n",
    "          'INCIDENT_YEAR':Incident_year, \n",
    "          'WARNED':Warning,\n",
    "          'PHASE_OF_FLIGHT':Phase_of_flights,\n",
    "          'HEIGHT':Height,\n",
    "          'TYPE_ENG':Type_engs,  \n",
    "          'EFFECT':Effects,\n",
    "          'NUM_ENGS':Number_of_Engine,\n",
    "          'ENG_1_POS':Position_of_engines1,\n",
    "          'INCIDENT_MONTH':Incident_day,\n",
    "          'INCIDENT_DAY': Incident_month}\n",
    "    \n",
    "    features = pd.DataFrame(data, index=[0])\n",
    "    return features\n",
    "\n",
    "\n",
    "input_df =user_input_features()\n",
    "input_df=enc_loaded.transform(input_df)\n",
    "input_df =scaler.transform(input_df)\n",
    "\n",
    "\n",
    "\n",
    "\n",
    "if st.button('PREDICT'):\n",
    "    y_out=model.predict(input_df)                    \n",
    "    if y_out[0]==1:\n",
    "        st.write(f'Aircraft shows considerable damage, take precaution immediately')                \n",
    "    else:\n",
    "        st.write(f'Aircraft shows no considerable damage, it is safe to keep flying')                \n",
    "\n",
    "                     \n",
    "                     \n",
    "\n",
    "\n"
   ]
  },
  {
   "cell_type": "code",
   "execution_count": null,
   "metadata": {},
   "outputs": [],
   "source": [
    "\n",
    "!streamlit run raven.py"
   ]
  },
  {
   "cell_type": "markdown",
   "metadata": {},
   "source": []
  },
  {
   "cell_type": "code",
   "execution_count": null,
   "metadata": {},
   "outputs": [],
   "source": []
  }
 ],
 "metadata": {
  "kernelspec": {
   "display_name": "Python 3",
   "language": "python",
   "name": "python3"
  },
  "language_info": {
   "codemirror_mode": {
    "name": "ipython",
    "version": 3
   },
   "file_extension": ".py",
   "mimetype": "text/x-python",
   "name": "python",
   "nbconvert_exporter": "python",
   "pygments_lexer": "ipython3",
   "version": "3.8.3"
  }
 },
 "nbformat": 4,
 "nbformat_minor": 4
}
